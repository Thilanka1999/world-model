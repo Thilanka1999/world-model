{
 "cells": [
  {
   "cell_type": "markdown",
   "metadata": {},
   "source": [
    "# FlowVisualizer"
   ]
  },
  {
   "cell_type": "code",
   "execution_count": null,
   "metadata": {},
   "outputs": [],
   "source": [
    "from src.visualizers import FlowVisualizer\n",
    "import os\n",
    "import torch\n",
    "from src.learners import FlowLearner\n",
    "from src.datasets import MPISintel\n",
    "from torch.utils.data import DataLoader\n",
    "\n",
    "bs = 8\n",
    "ds = MPISintel(\"./data/MPISintel/\", img_wh=[832, 256])\n",
    "dl = DataLoader(ds, bs, shuffle=True)\n",
    "ln = FlowLearner({\"target\": \"src.models.encoders.PWCEncoder\"})\n",
    "ln.set_devices([1, 1])\n",
    "\n",
    "ckpt_path = \"out/TrianFlow-ssl-flow/run0/ckpts/final.ckpt\"\n",
    "if os.path.exists(ckpt_path):\n",
    "    ckpt = torch.load(ckpt_path)\n",
    "    print(ln.load_state_dict(ckpt[\"learner\"]))\n",
    "\n",
    "\n",
    "batch = next(iter(dl))\n",
    "info = ln(batch)\n",
    "vis = FlowVisualizer(max_imgs_per_batch=4)\n",
    "vis(info, batch)"
   ]
  },
  {
   "cell_type": "markdown",
   "metadata": {},
   "source": [
    "# Depth Visualizer"
   ]
  },
  {
   "cell_type": "code",
   "execution_count": null,
   "metadata": {},
   "outputs": [],
   "source": [
    "# TODO: @thilanka"
   ]
  }
 ],
 "metadata": {
  "kernelspec": {
   "display_name": "Python 3",
   "language": "python",
   "name": "python3"
  },
  "language_info": {
   "codemirror_mode": {
    "name": "ipython",
    "version": 3
   },
   "file_extension": ".py",
   "mimetype": "text/x-python",
   "name": "python",
   "nbconvert_exporter": "python",
   "pygments_lexer": "ipython3",
   "version": "3.10.13"
  }
 },
 "nbformat": 4,
 "nbformat_minor": 2
}
